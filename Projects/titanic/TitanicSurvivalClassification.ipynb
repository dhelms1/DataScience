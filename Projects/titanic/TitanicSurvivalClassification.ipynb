{
 "cells": [
  {
   "cell_type": "markdown",
   "metadata": {},
   "source": [
    "## Import Libraries"
   ]
  },
  {
   "cell_type": "code",
   "execution_count": 115,
   "metadata": {},
   "outputs": [],
   "source": [
    "# Regular EDA (exploratory data analysis) and plotting libraries\n",
    "import numpy as np\n",
    "import pandas as pd\n",
    "import matplotlib.pyplot as plt\n",
    "import seaborn as sns\n",
    "\n",
    "# Data Manipulation Tools\n",
    "from sklearn.preprocessing import StandardScaler\n",
    "from sklearn.impute import SimpleImputer\n",
    "from sklearn.preprocessing import LabelEncoder\n",
    "\n",
    "# Models and Evaluations from Scikit-Learn\n",
    "from sklearn.pipeline import Pipeline\n",
    "from sklearn.linear_model import LogisticRegression\n",
    "from sklearn.ensemble import ExtraTreesClassifier\n",
    "from sklearn.ensemble import RandomForestClassifier\n",
    "from sklearn.experimental import enable_hist_gradient_boosting\n",
    "from sklearn.ensemble import HistGradientBoostingClassifier\n",
    "\n",
    "from sklearn.model_selection import train_test_split, cross_val_score\n",
    "from sklearn.model_selection import RandomizedSearchCV, GridSearchCV\n",
    "from sklearn.metrics import confusion_matrix, classification_report\n",
    "from sklearn.metrics import precision_score, recall_score, f1_score\n",
    "from sklearn.metrics import plot_roc_curve"
   ]
  },
  {
   "cell_type": "markdown",
   "metadata": {},
   "source": [
    "# Titanic Survival Classification\n",
    "\n",
    "## 1. Problem\n",
    "Use machine learning to create a model that predicts which passengers survived the Titanic shipwreck.\n",
    "\n",
    "## 2. Data\n",
    "The data has been split into two groups, a training and test data set. Definition of the features can be found here: https://www.kaggle.com/c/titanic/data\n",
    "\n",
    "## 3. Evaluation\n",
    "The evaluation metric being used for this problem is *accuracy*, which is based on the percentage of passengers you correctly predict.\n",
    "\n",
    "## 4. Features\n",
    "Use the above link from *Data* in order to see a Data Dictionary. Some important notes:\n",
    "- Survived: 0 = No, 1 = Yes\n",
    "- Pclass (Ticket Class): 1 = 1st (Upper), 2 = 2nd (Middle), 3 = 3rd (Lower)\n",
    "- Embarked: C = Cherbourg, Q = Queenstown, S = Southampton\n",
    "\n",
    "## 5. Modeling\n",
    "\n",
    "### 5.1 Data Exploration (Exploratory Data Anlysis)"
   ]
  },
  {
   "cell_type": "code",
   "execution_count": 127,
   "metadata": {},
   "outputs": [
    {
     "data": {
      "text/html": [
       "<div>\n",
       "<style scoped>\n",
       "    .dataframe tbody tr th:only-of-type {\n",
       "        vertical-align: middle;\n",
       "    }\n",
       "\n",
       "    .dataframe tbody tr th {\n",
       "        vertical-align: top;\n",
       "    }\n",
       "\n",
       "    .dataframe thead th {\n",
       "        text-align: right;\n",
       "    }\n",
       "</style>\n",
       "<table border=\"1\" class=\"dataframe\">\n",
       "  <thead>\n",
       "    <tr style=\"text-align: right;\">\n",
       "      <th></th>\n",
       "      <th>PassengerId</th>\n",
       "      <th>Survived</th>\n",
       "      <th>Pclass</th>\n",
       "      <th>Name</th>\n",
       "      <th>Sex</th>\n",
       "      <th>Age</th>\n",
       "      <th>SibSp</th>\n",
       "      <th>Parch</th>\n",
       "      <th>Ticket</th>\n",
       "      <th>Fare</th>\n",
       "      <th>Cabin</th>\n",
       "      <th>Embarked</th>\n",
       "    </tr>\n",
       "  </thead>\n",
       "  <tbody>\n",
       "    <tr>\n",
       "      <th>0</th>\n",
       "      <td>1</td>\n",
       "      <td>0</td>\n",
       "      <td>3</td>\n",
       "      <td>Braund, Mr. Owen Harris</td>\n",
       "      <td>male</td>\n",
       "      <td>22.0</td>\n",
       "      <td>1</td>\n",
       "      <td>0</td>\n",
       "      <td>A/5 21171</td>\n",
       "      <td>7.2500</td>\n",
       "      <td>NaN</td>\n",
       "      <td>S</td>\n",
       "    </tr>\n",
       "    <tr>\n",
       "      <th>1</th>\n",
       "      <td>2</td>\n",
       "      <td>1</td>\n",
       "      <td>1</td>\n",
       "      <td>Cumings, Mrs. John Bradley (Florence Briggs Th...</td>\n",
       "      <td>female</td>\n",
       "      <td>38.0</td>\n",
       "      <td>1</td>\n",
       "      <td>0</td>\n",
       "      <td>PC 17599</td>\n",
       "      <td>71.2833</td>\n",
       "      <td>C85</td>\n",
       "      <td>C</td>\n",
       "    </tr>\n",
       "    <tr>\n",
       "      <th>2</th>\n",
       "      <td>3</td>\n",
       "      <td>1</td>\n",
       "      <td>3</td>\n",
       "      <td>Heikkinen, Miss. Laina</td>\n",
       "      <td>female</td>\n",
       "      <td>26.0</td>\n",
       "      <td>0</td>\n",
       "      <td>0</td>\n",
       "      <td>STON/O2. 3101282</td>\n",
       "      <td>7.9250</td>\n",
       "      <td>NaN</td>\n",
       "      <td>S</td>\n",
       "    </tr>\n",
       "    <tr>\n",
       "      <th>3</th>\n",
       "      <td>4</td>\n",
       "      <td>1</td>\n",
       "      <td>1</td>\n",
       "      <td>Futrelle, Mrs. Jacques Heath (Lily May Peel)</td>\n",
       "      <td>female</td>\n",
       "      <td>35.0</td>\n",
       "      <td>1</td>\n",
       "      <td>0</td>\n",
       "      <td>113803</td>\n",
       "      <td>53.1000</td>\n",
       "      <td>C123</td>\n",
       "      <td>S</td>\n",
       "    </tr>\n",
       "    <tr>\n",
       "      <th>4</th>\n",
       "      <td>5</td>\n",
       "      <td>0</td>\n",
       "      <td>3</td>\n",
       "      <td>Allen, Mr. William Henry</td>\n",
       "      <td>male</td>\n",
       "      <td>35.0</td>\n",
       "      <td>0</td>\n",
       "      <td>0</td>\n",
       "      <td>373450</td>\n",
       "      <td>8.0500</td>\n",
       "      <td>NaN</td>\n",
       "      <td>S</td>\n",
       "    </tr>\n",
       "  </tbody>\n",
       "</table>\n",
       "</div>"
      ],
      "text/plain": [
       "   PassengerId  Survived  Pclass  \\\n",
       "0            1         0       3   \n",
       "1            2         1       1   \n",
       "2            3         1       3   \n",
       "3            4         1       1   \n",
       "4            5         0       3   \n",
       "\n",
       "                                                Name     Sex   Age  SibSp  \\\n",
       "0                            Braund, Mr. Owen Harris    male  22.0      1   \n",
       "1  Cumings, Mrs. John Bradley (Florence Briggs Th...  female  38.0      1   \n",
       "2                             Heikkinen, Miss. Laina  female  26.0      0   \n",
       "3       Futrelle, Mrs. Jacques Heath (Lily May Peel)  female  35.0      1   \n",
       "4                           Allen, Mr. William Henry    male  35.0      0   \n",
       "\n",
       "   Parch            Ticket     Fare Cabin Embarked  \n",
       "0      0         A/5 21171   7.2500   NaN        S  \n",
       "1      0          PC 17599  71.2833   C85        C  \n",
       "2      0  STON/O2. 3101282   7.9250   NaN        S  \n",
       "3      0            113803  53.1000  C123        S  \n",
       "4      0            373450   8.0500   NaN        S  "
      ]
     },
     "execution_count": 127,
     "metadata": {},
     "output_type": "execute_result"
    }
   ],
   "source": [
    "train_df = pd.read_csv('train.csv')\n",
    "test_df = pd.read_csv('test.csv')\n",
    "train_df.head()"
   ]
  },
  {
   "cell_type": "code",
   "execution_count": 128,
   "metadata": {},
   "outputs": [
    {
     "data": {
      "image/png": "[encoded data removed]",
      "text/plain": [
       "<Figure size 720x432 with 1 Axes>"
      ]
     },
     "metadata": {
      "needs_background": "light"
     },
     "output_type": "display_data"
    },
    {
     "name": "stdout",
     "output_type": "stream",
     "text": [
      "From this chart, we can see that 5.778 times more males than females did not survive.\n",
      "We can also see that 2.138 times more females females survived than males\n"
     ]
    }
   ],
   "source": [
    "pd.crosstab(train_df.Survived, train_df.Sex).plot(kind='bar', figsize=(10,6), color=['salmon', 'lightblue'])\n",
    "plt.title('Crosstab of Survival Rate by Sex')\n",
    "plt.xlabel('0 = Did not survive, 1 = Survived')\n",
    "plt.ylabel('Count')\n",
    "plt.xticks(rotation=0)\n",
    "plt.legend(['Female', 'Male'])\n",
    "plt.show()\n",
    "\n",
    "# Calculate the difference in survival/death rates based on Sex (round to 3 decimals)\n",
    "survive_count = train_df['Survived'].groupby(train_df['Sex']).value_counts()\n",
    "male_death, female_death = survive_count[2], survive_count[1]\n",
    "male_surv, female_surv = survive_count[3], survive_count[0]\n",
    "print('From this chart, we can see that {} times more males than females did not survive.'\n",
    "      .format(np.round((male_death/female_death),3)))\n",
    "print('We can also see that {} times more females females survived than males'\n",
    "      .format(np.round((female_surv/male_surv),3)))"
   ]
  },
  {
   "cell_type": "code",
   "execution_count": 129,
   "metadata": {
    "scrolled": true
   },
   "outputs": [
    {
     "data": {
      "text/plain": [
       "PassengerId      0\n",
       "Survived         0\n",
       "Pclass           0\n",
       "Name             0\n",
       "Sex              0\n",
       "Age            177\n",
       "SibSp            0\n",
       "Parch            0\n",
       "Ticket           0\n",
       "Fare             0\n",
       "Cabin          687\n",
       "Embarked         2\n",
       "dtype: int64"
      ]
     },
     "execution_count": 129,
     "metadata": {},
     "output_type": "execute_result"
    }
   ],
   "source": [
    "train_df.isna().sum()"
   ]
  },
  {
   "cell_type": "markdown",
   "metadata": {},
   "source": [
    "##### We will want to make the following changes to our datasets:\n",
    "- Fill missing values in *Age* column with the median value.\n",
    "- Convert *Sex* column to numeric columns\n",
    "- Fill *Embarked* column with most occuring value and convert to numeric\n",
    "- Drop *Cabin* column, *Name* column, and *Ticket* column"
   ]
  },
  {
   "cell_type": "code",
   "execution_count": 130,
   "metadata": {},
   "outputs": [],
   "source": [
    "def data_set_manipulations(train_df, test_df):\n",
    "    labels = [train_df, test_df]\n",
    "    for dataset in labels:\n",
    "       # Fill missing values in Age column with the median\n",
    "        dataset['Age'] = dataset['Age'].fillna(value=dataset['Age'].median())\n",
    "\n",
    "        # Convert Sex column to numeric\n",
    "        encoder = LabelEncoder()\n",
    "        encoder.fit(['male', 'female'])\n",
    "        dataset['Sex'] = encoder.transform(dataset['Sex'])\n",
    "        \n",
    "        # Combine SibSp & Parch columns together (then drop)\n",
    "        dataset['familySize'] = dataset['SibSp'] + dataset['Parch'] + 1\n",
    "\n",
    "        # Fill Embarked with 'S' (most occuring) and concert to numeric\n",
    "        dataset['Embarked'] = dataset['Embarked'].fillna(value='S')\n",
    "        encoder2 = LabelEncoder()\n",
    "        encoder2.fit(['S', 'C', 'Q'])\n",
    "        dataset['Embarked'] = encoder2.transform(dataset['Embarked'])\n",
    "\n",
    "        # Drop the Cabin, Name, & Ticket columns\n",
    "        dataset.drop(labels =['Cabin', 'Ticket', 'Name', 'SibSp', 'Parch'], inplace=True, axis=1)\n",
    "    return (train_df, test_df)\n",
    "\n",
    "\n",
    "train_df, test_df = data_set_manipulations(train_df, test_df)"
   ]
  },
  {
   "cell_type": "code",
   "execution_count": 131,
   "metadata": {
    "scrolled": true
   },
   "outputs": [
    {
     "data": {
      "text/plain": [
       "PassengerId    0\n",
       "Survived       0\n",
       "Pclass         0\n",
       "Sex            0\n",
       "Age            0\n",
       "Fare           0\n",
       "Embarked       0\n",
       "familySize     0\n",
       "dtype: int64"
      ]
     },
     "execution_count": 131,
     "metadata": {},
     "output_type": "execute_result"
    }
   ],
   "source": [
    "train_df.isna().sum() # no more missing values"
   ]
  },
  {
   "cell_type": "code",
   "execution_count": 132,
   "metadata": {},
   "outputs": [
    {
     "data": {
      "text/plain": [
       "PassengerId    0\n",
       "Pclass         0\n",
       "Sex            0\n",
       "Age            0\n",
       "Fare           0\n",
       "Embarked       0\n",
       "familySize     0\n",
       "dtype: int64"
      ]
     },
     "execution_count": 132,
     "metadata": {},
     "output_type": "execute_result"
    }
   ],
   "source": [
    "# One missing values in test data set\n",
    "test_df.loc[test_df['Fare'].isnull()]\n",
    "test_df['Fare'] = test_df['Fare'].fillna(value=test_df['Fare'].mean())\n",
    "\n",
    "test_df.isna().sum()"
   ]
  },
  {
   "cell_type": "code",
   "execution_count": 133,
   "metadata": {},
   "outputs": [
    {
     "data": {
      "text/html": [
       "<div>\n",
       "<style scoped>\n",
       "    .dataframe tbody tr th:only-of-type {\n",
       "        vertical-align: middle;\n",
       "    }\n",
       "\n",
       "    .dataframe tbody tr th {\n",
       "        vertical-align: top;\n",
       "    }\n",
       "\n",
       "    .dataframe thead th {\n",
       "        text-align: right;\n",
       "    }\n",
       "</style>\n",
       "<table border=\"1\" class=\"dataframe\">\n",
       "  <thead>\n",
       "    <tr style=\"text-align: right;\">\n",
       "      <th></th>\n",
       "      <th>PassengerId</th>\n",
       "      <th>Survived</th>\n",
       "      <th>Pclass</th>\n",
       "      <th>Sex</th>\n",
       "      <th>Age</th>\n",
       "      <th>Fare</th>\n",
       "      <th>Embarked</th>\n",
       "      <th>familySize</th>\n",
       "    </tr>\n",
       "  </thead>\n",
       "  <tbody>\n",
       "    <tr>\n",
       "      <th>0</th>\n",
       "      <td>1</td>\n",
       "      <td>0</td>\n",
       "      <td>3</td>\n",
       "      <td>1</td>\n",
       "      <td>22.0</td>\n",
       "      <td>7.2500</td>\n",
       "      <td>2</td>\n",
       "      <td>2</td>\n",
       "    </tr>\n",
       "    <tr>\n",
       "      <th>1</th>\n",
       "      <td>2</td>\n",
       "      <td>1</td>\n",
       "      <td>1</td>\n",
       "      <td>0</td>\n",
       "      <td>38.0</td>\n",
       "      <td>71.2833</td>\n",
       "      <td>0</td>\n",
       "      <td>2</td>\n",
       "    </tr>\n",
       "    <tr>\n",
       "      <th>2</th>\n",
       "      <td>3</td>\n",
       "      <td>1</td>\n",
       "      <td>3</td>\n",
       "      <td>0</td>\n",
       "      <td>26.0</td>\n",
       "      <td>7.9250</td>\n",
       "      <td>2</td>\n",
       "      <td>1</td>\n",
       "    </tr>\n",
       "    <tr>\n",
       "      <th>3</th>\n",
       "      <td>4</td>\n",
       "      <td>1</td>\n",
       "      <td>1</td>\n",
       "      <td>0</td>\n",
       "      <td>35.0</td>\n",
       "      <td>53.1000</td>\n",
       "      <td>2</td>\n",
       "      <td>2</td>\n",
       "    </tr>\n",
       "    <tr>\n",
       "      <th>4</th>\n",
       "      <td>5</td>\n",
       "      <td>0</td>\n",
       "      <td>3</td>\n",
       "      <td>1</td>\n",
       "      <td>35.0</td>\n",
       "      <td>8.0500</td>\n",
       "      <td>2</td>\n",
       "      <td>1</td>\n",
       "    </tr>\n",
       "  </tbody>\n",
       "</table>\n",
       "</div>"
      ],
      "text/plain": [
       "   PassengerId  Survived  Pclass  Sex   Age     Fare  Embarked  familySize\n",
       "0            1         0       3    1  22.0   7.2500         2           2\n",
       "1            2         1       1    0  38.0  71.2833         0           2\n",
       "2            3         1       3    0  26.0   7.9250         2           1\n",
       "3            4         1       1    0  35.0  53.1000         2           2\n",
       "4            5         0       3    1  35.0   8.0500         2           1"
      ]
     },
     "execution_count": 133,
     "metadata": {},
     "output_type": "execute_result"
    }
   ],
   "source": [
    "train_df.head()"
   ]
  },
  {
   "cell_type": "code",
   "execution_count": 134,
   "metadata": {},
   "outputs": [
    {
     "data": {
      "text/html": [
       "<div>\n",
       "<style scoped>\n",
       "    .dataframe tbody tr th:only-of-type {\n",
       "        vertical-align: middle;\n",
       "    }\n",
       "\n",
       "    .dataframe tbody tr th {\n",
       "        vertical-align: top;\n",
       "    }\n",
       "\n",
       "    .dataframe thead th {\n",
       "        text-align: right;\n",
       "    }\n",
       "</style>\n",
       "<table border=\"1\" class=\"dataframe\">\n",
       "  <thead>\n",
       "    <tr style=\"text-align: right;\">\n",
       "      <th></th>\n",
       "      <th>PassengerId</th>\n",
       "      <th>Pclass</th>\n",
       "      <th>Sex</th>\n",
       "      <th>Age</th>\n",
       "      <th>Fare</th>\n",
       "      <th>Embarked</th>\n",
       "      <th>familySize</th>\n",
       "    </tr>\n",
       "  </thead>\n",
       "  <tbody>\n",
       "    <tr>\n",
       "      <th>0</th>\n",
       "      <td>892</td>\n",
       "      <td>3</td>\n",
       "      <td>1</td>\n",
       "      <td>34.5</td>\n",
       "      <td>7.8292</td>\n",
       "      <td>1</td>\n",
       "      <td>1</td>\n",
       "    </tr>\n",
       "    <tr>\n",
       "      <th>1</th>\n",
       "      <td>893</td>\n",
       "      <td>3</td>\n",
       "      <td>0</td>\n",
       "      <td>47.0</td>\n",
       "      <td>7.0000</td>\n",
       "      <td>2</td>\n",
       "      <td>2</td>\n",
       "    </tr>\n",
       "    <tr>\n",
       "      <th>2</th>\n",
       "      <td>894</td>\n",
       "      <td>2</td>\n",
       "      <td>1</td>\n",
       "      <td>62.0</td>\n",
       "      <td>9.6875</td>\n",
       "      <td>1</td>\n",
       "      <td>1</td>\n",
       "    </tr>\n",
       "    <tr>\n",
       "      <th>3</th>\n",
       "      <td>895</td>\n",
       "      <td>3</td>\n",
       "      <td>1</td>\n",
       "      <td>27.0</td>\n",
       "      <td>8.6625</td>\n",
       "      <td>2</td>\n",
       "      <td>1</td>\n",
       "    </tr>\n",
       "    <tr>\n",
       "      <th>4</th>\n",
       "      <td>896</td>\n",
       "      <td>3</td>\n",
       "      <td>0</td>\n",
       "      <td>22.0</td>\n",
       "      <td>12.2875</td>\n",
       "      <td>2</td>\n",
       "      <td>3</td>\n",
       "    </tr>\n",
       "  </tbody>\n",
       "</table>\n",
       "</div>"
      ],
      "text/plain": [
       "   PassengerId  Pclass  Sex   Age     Fare  Embarked  familySize\n",
       "0          892       3    1  34.5   7.8292         1           1\n",
       "1          893       3    0  47.0   7.0000         2           2\n",
       "2          894       2    1  62.0   9.6875         1           1\n",
       "3          895       3    1  27.0   8.6625         2           1\n",
       "4          896       3    0  22.0  12.2875         2           3"
      ]
     },
     "execution_count": 134,
     "metadata": {},
     "output_type": "execute_result"
    }
   ],
   "source": [
    "test_df.head()"
   ]
  },
  {
   "cell_type": "code",
   "execution_count": 135,
   "metadata": {},
   "outputs": [
    {
     "data": {
      "image/png": "[encoded data removed]",
      "text/plain": [
       "<Figure size 1080x720 with 2 Axes>"
      ]
     },
     "metadata": {
      "needs_background": "light"
     },
     "output_type": "display_data"
    }
   ],
   "source": [
    "corr_matrix = train_df.corr()\n",
    "fig, ax = plt.subplots(figsize=(15,10))\n",
    "ax = sns.heatmap(corr_matrix, annot=True, linewidth=0.5, fmt='.2f', cmap='YlGnBu')"
   ]
  },
  {
   "cell_type": "markdown",
   "metadata": {},
   "source": [
    "### 5.2 Choosing the right Estimator\n",
    "We will want to test multiple classification models on our dataset in order to choose which best fits our problem. We can create a dictionary of them and run them through a function that fits/evaluates them.\n",
    "\n",
    "#### Begin by splitting data into training/validation sets, then normalizing"
   ]
  },
  {
   "cell_type": "code",
   "execution_count": 136,
   "metadata": {},
   "outputs": [],
   "source": [
    "np.random.seed(42)\n",
    "\n",
    "X = train_df.drop(labels='Survived', axis=1)\n",
    "y = train_df['Survived']\n",
    "X_train, X_val, y_train, y_val = train_test_split(X, y, test_size=0.2) # 712 (Train), 179 (Val)\n",
    "\n",
    "def data_normalize(X_train, X_val):\n",
    "    \"\"\"\n",
    "    Normalize data using a MinMaxScaler (all data in range [0,1])\n",
    "    returns a tuple in the form (train set, validation set)\n",
    "    \"\"\"\n",
    "    # Normalize Train Data\n",
    "    train_scaler = StandardScaler()\n",
    "    train_scaler.fit(X_train)\n",
    "    X_train_norm = train_scaler.transform(X_train)\n",
    "    # Normalize Test Data\n",
    "    test_scaler = StandardScaler()\n",
    "    test_scaler.fit(X_val)\n",
    "    X_val_norm = test_scaler.transform(X_val)\n",
    "    \n",
    "    return (X_train_norm, X_val_norm)\n",
    "\n",
    "X_train, X_val = data_normalize(X_train, X_val)"
   ]
  },
  {
   "cell_type": "markdown",
   "metadata": {},
   "source": [
    "#### Test various models on our data sets"
   ]
  },
  {
   "cell_type": "code",
   "execution_count": 137,
   "metadata": {},
   "outputs": [
    {
     "data": {
      "text/plain": [
       "{'Logistic': 0.8044692737430168,\n",
       " 'ExtraTrees': 0.8379888268156425,\n",
       " 'RandomForest': 0.7988826815642458,\n",
       " 'HistogramGradientBoost': 0.8212290502793296}"
      ]
     },
     "execution_count": 137,
     "metadata": {},
     "output_type": "execute_result"
    }
   ],
   "source": [
    "np.random.seed(42)\n",
    "\n",
    "model_dict = {'Logistic': LogisticRegression(),\n",
    "              'ExtraTrees': ExtraTreesClassifier(),\n",
    "              'RandomForest': RandomForestClassifier(),\n",
    "              'HistogramGradientBoost': HistGradientBoostingClassifier()}\n",
    "\n",
    "def train_and_score(model_dict, X_train, X_val, y_train, y_val):\n",
    "    \"\"\"\n",
    "    Train and fit various models using the training and validation sets.\n",
    "    model_dict contains a dictionary of models and their names.\n",
    "    \"\"\"\n",
    "    model_scores = {}\n",
    "    for name, model in model_dict.items():\n",
    "        model.fit(X_train, y_train)\n",
    "        model_scores[name] = model.score(X_val, y_val)\n",
    "    return model_scores\n",
    "\n",
    "train_and_score(model_dict, X_train, X_val, y_train, y_val)"
   ]
  },
  {
   "cell_type": "markdown",
   "metadata": {},
   "source": [
    "#### Tune the Hyperparameters of our LogisticRegression\n",
    "We will use both RandomizedSearchCV and GridSearchCV to find the optimal parameters to get the highest accuracy possible."
   ]
  },
  {
   "cell_type": "code",
   "execution_count": 108,
   "metadata": {},
   "outputs": [
    {
     "name": "stdout",
     "output_type": "stream",
     "text": [
      "Fitting 5 folds for each of 20 candidates, totalling 100 fits\n"
     ]
    },
    {
     "name": "stderr",
     "output_type": "stream",
     "text": [
      "[Parallel(n_jobs=1)]: Using backend SequentialBackend with 1 concurrent workers.\n"
     ]
    },
    {
     "name": "stdout",
     "output_type": "stream",
     "text": [
      "{'solver': 'lbfgs', 'max_iter': 1000, 'C': 2.136734693877551}\n"
     ]
    },
    {
     "name": "stderr",
     "output_type": "stream",
     "text": [
      "[Parallel(n_jobs=1)]: Done 100 out of 100 | elapsed:    0.4s finished\n"
     ]
    },
    {
     "data": {
      "text/plain": [
       "0.8044692737430168"
      ]
     },
     "execution_count": 108,
     "metadata": {},
     "output_type": "execute_result"
    }
   ],
   "source": [
    "np.random.seed(42)\n",
    "\n",
    "log_rs_grid = {'C': np.linspace(1.5, 2.7, 50),\n",
    "               'solver': ['liblinear', 'lbfgs'],\n",
    "               'max_iter': [1000, 2000, 5000, 10000]}\n",
    "\n",
    "log_rs = RandomizedSearchCV(LogisticRegression(), param_distributions=log_rs_grid, cv=5, n_iter=20, verbose=True)\n",
    "\n",
    "log_rs.fit(X_train, y_train)\n",
    "print(log_rs.best_params_)\n",
    "log_rs.score(X_val, y_val)"
   ]
  },
  {
   "cell_type": "code",
   "execution_count": 75,
   "metadata": {},
   "outputs": [
    {
     "name": "stdout",
     "output_type": "stream",
     "text": [
      "Fitting 5 folds for each of 12 candidates, totalling 60 fits\n"
     ]
    },
    {
     "name": "stderr",
     "output_type": "stream",
     "text": [
      "[Parallel(n_jobs=1)]: Using backend SequentialBackend with 1 concurrent workers.\n",
      "[Parallel(n_jobs=1)]: Done  60 out of  60 | elapsed:   42.1s finished\n"
     ]
    },
    {
     "name": "stdout",
     "output_type": "stream",
     "text": [
      "{'n_estimators': 150}\n"
     ]
    },
    {
     "data": {
      "text/plain": [
       "0.8156424581005587"
      ]
     },
     "execution_count": 75,
     "metadata": {},
     "output_type": "execute_result"
    }
   ],
   "source": [
    "np.random.seed(42)\n",
    "\n",
    "rf_gs_grid = {'n_estimators': np.arange(100, 700, 50)}\n",
    "\n",
    "rf_gs = GridSearchCV(RandomForestClassifier(), param_grid=rf_gs_grid, cv=5, verbose=True)\n",
    "\n",
    "rf_gs.fit(X_train, y_train)\n",
    "print(rf_gs.best_params_)\n",
    "rf_gs.score(X_val, y_val)"
   ]
  },
  {
   "cell_type": "code",
   "execution_count": 110,
   "metadata": {},
   "outputs": [
    {
     "name": "stdout",
     "output_type": "stream",
     "text": [
      "Fitting 5 folds for each of 1 candidates, totalling 5 fits\n"
     ]
    },
    {
     "name": "stderr",
     "output_type": "stream",
     "text": [
      "[Parallel(n_jobs=1)]: Using backend SequentialBackend with 1 concurrent workers.\n",
      "[Parallel(n_jobs=1)]: Done   5 out of   5 | elapsed:    2.2s finished\n"
     ]
    },
    {
     "name": "stdout",
     "output_type": "stream",
     "text": [
      "{'max_features': None, 'min_samples_split': 3, 'n_estimators': 300}\n"
     ]
    },
    {
     "data": {
      "text/plain": [
       "0.8324022346368715"
      ]
     },
     "execution_count": 110,
     "metadata": {},
     "output_type": "execute_result"
    }
   ],
   "source": [
    "np.random.seed(42)\n",
    "\n",
    "etc_gs_grid = {'n_estimators': np.arange(200, 450, 25),\n",
    "               'min_samples_split': np.arange(2, 6, 1),\n",
    "               'max_features': [None]}\n",
    "\n",
    "etc_gs = GridSearchCV(ExtraTreesClassifier(), param_grid=etc_gs_grid, cv=5, verbose=True)\n",
    "\n",
    "etc_gs.fit(X_train, y_train)\n",
    "print(etc_gs.best_params_)\n",
    "etc_gs.score(X_val, y_val)"
   ]
  },
  {
   "cell_type": "markdown",
   "metadata": {},
   "source": [
    "#### Predict on test data and save to csv\n"
   ]
  },
  {
   "cell_type": "code",
   "execution_count": 111,
   "metadata": {},
   "outputs": [],
   "source": [
    "def final_train_and_predict(model):\n",
    "    np.random.seed(42)\n",
    "    \"\"\"\n",
    "    Split data, normalize it with StandardScaler, train our model,\n",
    "    and make predictions. Returns an array of estimated survival.\n",
    "    \"\"\"\n",
    "    X_train = train_df.drop(labels='Survived', axis=1) # use full training set\n",
    "    y_train = train_df['Survived']\n",
    "\n",
    "    train_scaler = StandardScaler()\n",
    "    train_scaler.fit(X_train)\n",
    "    X_train_norm = train_scaler.transform(X_train) # normalize training set\n",
    "\n",
    "    test_scaler = StandardScaler()\n",
    "    train_scaler.fit(test_df)\n",
    "    X_test_norm = train_scaler.transform(test_df) # normalize test set\n",
    "\n",
    "    model.fit(X_train_norm, y_train)\n",
    "    y_preds = model.predict(X_test_norm) # predict values for test set\n",
    "    return y_preds"
   ]
  },
  {
   "cell_type": "markdown",
   "metadata": {},
   "source": [
    "##### Current Position\n",
    "Position: 2407 out of 21722 (top 11%) with a score of 0.79425"
   ]
  },
  {
   "cell_type": "code",
   "execution_count": 112,
   "metadata": {},
   "outputs": [],
   "source": [
    "model_1 = LogisticRegression(C = 2.4827586206896552, max_iter=1000, solver='lbfgs') # 76.32%\n",
    "model_2 = RandomForestClassifier(n_estimators = 600) # 77.75%\n",
    "model_3 = ExtraTreesClassifier(n_estimators=300, min_samples_split=3, max_features=None) # 79.43%\n",
    "\n",
    "y_preds = final_train_and_predict(model_3)"
   ]
  },
  {
   "cell_type": "code",
   "execution_count": 113,
   "metadata": {},
   "outputs": [],
   "source": [
    "results = pd.DataFrame({'PassengerId': test_df['PassengerId'],\n",
    "                        'Survived': y_preds})\n",
    "\n",
    "results.to_csv('My_submission.csv', index=False)"
   ]
  },
  {
   "cell_type": "code",
   "execution_count": 114,
   "metadata": {},
   "outputs": [
    {
     "data": {
      "image/png": "[encoded data removed]",
      "text/plain": [
       "<Figure size 432x288 with 1 Axes>"
      ]
     },
     "metadata": {
      "needs_background": "light"
     },
     "output_type": "display_data"
    }
   ],
   "source": [
    "labels = train_df.drop(labels=['Survived'],axis=1).columns\n",
    "feature_dict = dict(zip(labels, model_3.feature_importances_))\n",
    "feature_df = pd.DataFrame(feature_dict, index=[0])\n",
    "feature_df.T.plot.bar(title='Feature Importance', legend=False)\n",
    "plt.show()"
   ]
  },
  {
   "cell_type": "markdown",
   "metadata": {},
   "source": [
    "### Concluding Thoughts\n",
    "\n",
    "Overall, an accuracy score of approx 79.4% (increase of 3% from first model) was achieved with our ExtraTreesClassifier model. The data was normalized using a StandardScaler, and trained/tested with the normalized data. The highest accuracy acheived with the training and validation data was around 84%. From the graph above, we can seee the most important features in our models predictions are Sex, Age, and Fare. In the future, new features could be added and more hyperparameter tuning as well in order to increase our accuracy above 80%. Currently we are in the top 11% of submission into the Kaggle competition."
   ]
  },
  {
   "cell_type": "code",
   "execution_count": null,
   "metadata": {},
   "outputs": [],
   "source": []
  }
 ],
 "metadata": {
  "kernelspec": {
   "display_name": "Python 3",
   "language": "python",
   "name": "python3"
  },
  "language_info": {
   "codemirror_mode": {
    "name": "ipython",
    "version": 3
   },
   "file_extension": ".py",
   "mimetype": "text/x-python",
   "name": "python",
   "nbconvert_exporter": "python",
   "pygments_lexer": "ipython3",
   "version": "3.7.3"
  }
 },
 "nbformat": 4,
 "nbformat_minor": 4
}
